{
 "cells": [
  {
   "cell_type": "code",
   "execution_count": 5,
   "metadata": {},
   "outputs": [],
   "source": [
    "import requests"
   ]
  },
  {
   "cell_type": "code",
   "execution_count": 6,
   "metadata": {},
   "outputs": [],
   "source": [
    "from bs4 import BeautifulSoup"
   ]
  },
  {
   "cell_type": "code",
   "execution_count": 48,
   "metadata": {},
   "outputs": [],
   "source": [
    "def find_cost_1mg(medicine):\n",
    "    URL = \"https://www.1mg.com/search/all?name=\"+medicine\n",
    "    r = requests.get(URL)\n",
    "    soup = BeautifulSoup(r.content,'html5lib')\n",
    "#     print(soup.prettify())\n",
    "    name = \"\"\n",
    "    cost = \"\"\n",
    "    name_table = soup.find('div',attrs = {'class':'style__product-description___1vPQe'})\n",
    "    if(name_table):\n",
    "        for row in name_table:\n",
    "            name += row.text\n",
    "            name += ','\n",
    "        name = name[:-1]\n",
    "        cost_table = soup.find('div',attrs = {'class':'style__price-tag___B2csA'})\n",
    "\n",
    "        for row in cost_table:\n",
    "            cost += row.string\n",
    "\n",
    "        return name + \": \" + cost\n",
    "    else :\n",
    "        return medicine + ' not found'\n",
    "    "
   ]
  },
  {
   "cell_type": "code",
   "execution_count": 56,
   "metadata": {},
   "outputs": [],
   "source": [
    "def find_cost_appolo(medicine):\n",
    "    URL = \"https://pharmeasy.in/search/all?name=\" + medicine\n",
    "    r = requests.get(URL)\n",
    "    soup = BeautifulSoup(r.content,'html5lib')\n",
    "    # print(soup.prettify())\n",
    "    name = \"\"\n",
    "    cost = \"\"\n",
    "    desc = \"\"\n",
    "    name_table = soup.find('h1',attrs = {'class':'ooufh'})\n",
    "    if(name_table):\n",
    "        for row in name_table:\n",
    "            name = row.string\n",
    "        name += ','    \n",
    "        desc_table = soup.find('div',attrs = {'class':'_36aef'})\n",
    "        if(desc_table):\n",
    "            for row in desc_table:\n",
    "                desc = row.string\n",
    "            desc += ':'\n",
    "            cost_table = soup.find('div',attrs = {'class':'_1_yM9'})\n",
    "            for row in cost_table:\n",
    "                cost +=  str(row.string)\n",
    "            if cost[-1]=='*' :\n",
    "                cost = cost[:-1]\n",
    "            return name + desc + cost\n",
    "        return medicine + ' not found'\n",
    "    return medicine + ' not found'"
   ]
  },
  {
   "cell_type": "code",
   "execution_count": 49,
   "metadata": {},
   "outputs": [],
   "source": [
    "medicines = ['allegra','paracetamol','phenylephrine','sinarest','Atorvastatin' ,'Clopidogrel' ,'bdb']"
   ]
  },
  {
   "cell_type": "code",
   "execution_count": 57,
   "metadata": {},
   "outputs": [
    {
     "name": "stdout",
     "output_type": "stream",
     "text": [
      "1mg:  Allegra-M Tablet ,strip of 10 tablets: MRP₹ 199.6\n",
      "Appolo:  Allegra 120mg Tablet,10 Tablet(s) in Strip:₹ 142.94\n",
      "1mg:  Dolo 650 Tablet ,strip of 15 tablets: MRP₹ 30.74\n",
      "Appolo:  Primol Plus Tablet,10 Tablet(s) in Strip:₹ 14.77\n",
      "1mg:  Solvin Decongestant Tablet ,strip of 15 tablets: MRP₹ 58.53\n",
      "Appolo:  Drosyn 10% Eye Drops 5ml,5ml Eye Drop in Bottle:₹ 29.96\n",
      "1mg:  Sinarest New Tablet ,strip of 10 tablets: MRP₹ 55.73\n",
      "Appolo:  sinarest not found\n",
      "1mg:  Aztor 10 Tablet ,strip of 15 tablets: MRP₹ 91.85\n",
      "Appolo:  Atorva 5mg Tab 15'S,15 Tablet(s) in Strip:₹ 82.28\n",
      "1mg:  Clopitab Tablet ,strip of 15 tablets: MRP₹ 97.41\n",
      "Appolo:  Clopid 75mg Tablet,10 Tablet(s) in Strip:₹ 25.71\n",
      "1mg:  bdb not found\n",
      "Appolo:  bdb not found\n"
     ]
    }
   ],
   "source": [
    "for x in medicines:\n",
    "    cost = find_cost_1mg(x)\n",
    "    print(\"1mg: \",cost)\n",
    "    cost = find_cost_appolo(x)\n",
    "    print(\"Appolo: \",cost)"
   ]
  },
  {
   "cell_type": "code",
   "execution_count": null,
   "metadata": {},
   "outputs": [],
   "source": []
  }
 ],
 "metadata": {
  "kernelspec": {
   "display_name": "Python 3",
   "language": "python",
   "name": "python3"
  },
  "language_info": {
   "codemirror_mode": {
    "name": "ipython",
    "version": 3
   },
   "file_extension": ".py",
   "mimetype": "text/x-python",
   "name": "python",
   "nbconvert_exporter": "python",
   "pygments_lexer": "ipython3",
   "version": "3.6.5"
  }
 },
 "nbformat": 4,
 "nbformat_minor": 2
}
