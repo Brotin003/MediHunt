{
 "cells": [
  {
   "cell_type": "code",
   "execution_count": 40,
   "metadata": {},
   "outputs": [],
   "source": [
    "import requests"
   ]
  },
  {
   "cell_type": "code",
   "execution_count": 41,
   "metadata": {},
   "outputs": [],
   "source": [
    "from bs4 import BeautifulSoup"
   ]
  },
  {
   "cell_type": "code",
   "execution_count": 89,
   "metadata": {},
   "outputs": [
    {
     "name": "stderr",
     "output_type": "stream",
     "text": [
      "/home/mihir/.local/lib/python3.6/site-packages/ipykernel_launcher.py:8: DeprecationWarning: use options instead of chrome_options\n",
      "  \n"
     ]
    }
   ],
   "source": [
    "import selenium\n",
    "from selenium import webdriver\n",
    "\n",
    "options = webdriver.ChromeOptions()\n",
    "options.add_argument('--ignore-certificate-errors')\n",
    "options.add_argument('--incognito')\n",
    "options.add_argument('--headless')\n",
    "driver = webdriver.Chrome(\"\", options=options)"
   ]
  },
  {
   "cell_type": "code",
   "execution_count": 1,
   "metadata": {},
   "outputs": [],
   "source": [
    "def find_cost_1mg(medicine):\n",
    "    URL = \"https://www.1mg.com/search/all?name=\"+medicine\n",
    "    r = requests.get(URL)\n",
    "    soup = BeautifulSoup(r.content,'html5lib')\n",
    "#     print(soup.prettify())\n",
    "    name = \"\"\n",
    "    cost = \"\"\n",
    "    name_table = soup.find('div',attrs = {'class':'style__product-description___1vPQe'})\n",
    "    if(name_table):\n",
    "        for row in name_table:\n",
    "            name += row.text\n",
    "            name += ','\n",
    "        name = name[:-1]\n",
    "        cost_table = soup.find('div',attrs = {'class':'style__price-tag___B2csA'})\n",
    "\n",
    "        for row in cost_table:\n",
    "            cost += row.string\n",
    "\n",
    "        return name + \": \" + cost\n",
    "    else :\n",
    "        return medicine + ' not found'\n",
    "    "
   ]
  },
  {
   "cell_type": "code",
   "execution_count": 43,
   "metadata": {},
   "outputs": [],
   "source": [
    "def find_cost_pharmeasy(medicine):\n",
    "    URL = \"https://pharmeasy.in/search/all?name=\" + medicine\n",
    "    r = requests.get(URL)\n",
    "    soup = BeautifulSoup(r.content,'html5lib')\n",
    "    # print(soup.prettify())\n",
    "    name = \"\"\n",
    "    cost = \"\"\n",
    "    desc = \"\"\n",
    "    name_table = soup.find('h1',attrs = {'class':'ooufh'})\n",
    "    if(name_table):\n",
    "        for row in name_table:\n",
    "            name = row.string\n",
    "        name += ','    \n",
    "        desc_table = soup.find('div',attrs = {'class':'_36aef'})\n",
    "        if(desc_table):\n",
    "            for row in desc_table:\n",
    "                desc = row.string\n",
    "            desc += ':'\n",
    "            cost_table = soup.find('div',attrs = {'class':'_1_yM9'})\n",
    "            for row in cost_table:\n",
    "                cost +=  str(row.string)\n",
    "            if cost[-1]=='*' :\n",
    "                cost = cost[:-1]\n",
    "            return name + desc + cost\n",
    "        return medicine + ' not found'\n",
    "    return medicine + ' not found'"
   ]
  },
  {
   "cell_type": "code",
   "execution_count": 96,
   "metadata": {},
   "outputs": [],
   "source": [
    "from selenium.common.exceptions import NoSuchElementException"
   ]
  },
  {
   "cell_type": "code",
   "execution_count": 97,
   "metadata": {},
   "outputs": [],
   "source": [
    "def find_cost_apollo(medicine):\n",
    "    driver.get(\"https://www.apollopharmacy.in/tsearch?q=\"+medicine)\n",
    "    try:\n",
    "        unavailable = driver.find_element_by_class_name(\"no-products\")\n",
    "        return medicine + ' not found'\n",
    "    except NoSuchElementException :\n",
    "        pdt = driver.find_element_by_class_name(\"tagalys-product-tile\")\n",
    "        a = pdt.text.split('\\n')\n",
    "        return (a[0] + ' '+ a[1]).capitalize()"
   ]
  },
  {
   "cell_type": "code",
   "execution_count": 100,
   "metadata": {},
   "outputs": [],
   "source": [
    "def find_cost_netmeds(medicine):\n",
    "    URL = \"https://www.netmeds.com/catalogsearch/result?q=\" + medicine\n",
    "    driver.get(URL)\n",
    "    try:\n",
    "        pdt = driver.find_element_by_class_name(\"drug_list\")\n",
    "        a = pdt.text.split('\\n')[:5]\n",
    "        return a[0] + a[2]\n",
    "    except NoSuchElementException:\n",
    "        return medicine + ' not found'"
   ]
  },
  {
   "cell_type": "code",
   "execution_count": 94,
   "metadata": {},
   "outputs": [],
   "source": [
    "medicines = ['allegra','paracetamol','phenylephrine','sinarest','Atorvastatin' ,'Clopidogrel' ,'bdb']"
   ]
  },
  {
   "cell_type": "code",
   "execution_count": 104,
   "metadata": {},
   "outputs": [
    {
     "name": "stdout",
     "output_type": "stream",
     "text": [
      "1mg:  Allegra-M Tablet ,strip of 10 tablets: MRP₹ 199.6\n",
      "Pharmeasy:  Allegra 120mg Tablet,10 Tablet(s) in Strip:₹ 142.94\n",
      "Apollo:  Allegra 120mg tablet ₹168.20\n",
      "Netmeds:  Allegra 180mg Tablet 10'SRs.197.73\n",
      "1mg:  Dolo 650 Tablet ,strip of 15 tablets: MRP₹ 30.74\n",
      "Pharmeasy:  Facer Mr Tab,10 Tablet(s) in Strip:₹ 13.49\n",
      "Apollo:  Crocin cold & flu tablet ₹54.90\n",
      "Netmeds:  Crocin DS 240mg Suspension 60mlRs.50.61\n",
      "1mg:  Solvin Decongestant Tablet ,strip of 15 tablets: MRP₹ 58.53\n",
      "Pharmeasy:  Drosyn 10% Eye Drops 5ml,5ml Eye Drop in Bottle:₹ 29.96\n",
      "Apollo:  Cheston cold tablet ₹39\n",
      "Netmeds:  Sinarest AF Syrup 60mlRs.71.96\n",
      "1mg:  Sinarest New Tablet ,strip of 10 tablets: MRP₹ 55.73\n",
      "Pharmeasy:  sinarest not found\n",
      "Apollo:  Sinarest tablet ₹50.70\n",
      "Netmeds:  Sinarest New Tablet 10'SRs.50.71\n",
      "1mg:  Aztor 10 Tablet ,strip of 15 tablets: MRP₹ 91.85\n",
      "Pharmeasy:  Atorva 5mg Tab 15'S,15 Tablet(s) in Strip:₹ 82.28\n",
      "Apollo:  Ecosprin av 75mg capsule ₹41.04\n",
      "Netmeds:  Atorva 10Mg Tablet 15'SRs.91.89\n",
      "1mg:  Clopitab Tablet ,strip of 15 tablets: MRP₹ 97.41\n",
      "Pharmeasy:  Clopid 75mg Tablet,10 Tablet(s) in Strip:₹ 25.71\n",
      "Apollo:  Clopilet 75mg tablet ₹102.69\n",
      "Netmeds:  Clopilet 75mg Tablet 15'SRs.114.09\n",
      "1mg:  bdb not found\n",
      "Pharmeasy:  bdb not found\n",
      "Apollo:  bdb not found\n",
      "Netmeds:  bdb not found\n"
     ]
    }
   ],
   "source": [
    "for x in medicines:\n",
    "    cost = find_cost_1mg(x)\n",
    "    print(\"1mg: \",cost)\n",
    "    cost = find_cost_pharmeasy(x)\n",
    "    print(\"Pharmeasy: \",cost)\n",
    "    print(\"Apollo: \",find_cost_apollo(x))\n",
    "    print(\"Netmeds: \",find_cost_netmeds(x))"
   ]
  },
  {
   "cell_type": "code",
   "execution_count": null,
   "metadata": {},
   "outputs": [],
   "source": []
  }
 ],
 "metadata": {
  "kernelspec": {
   "display_name": "Python 3",
   "language": "python",
   "name": "python3"
  },
  "language_info": {
   "codemirror_mode": {
    "name": "ipython",
    "version": 3
   },
   "file_extension": ".py",
   "mimetype": "text/x-python",
   "name": "python",
   "nbconvert_exporter": "python",
   "pygments_lexer": "ipython3",
   "version": "3.7.4"
  }
 },
 "nbformat": 4,
 "nbformat_minor": 2
}
