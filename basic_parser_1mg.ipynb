{
 "cells": [
  {
   "cell_type": "code",
   "execution_count": 5,
   "metadata": {},
   "outputs": [],
   "source": [
    "import requests"
   ]
  },
  {
   "cell_type": "code",
   "execution_count": 6,
   "metadata": {},
   "outputs": [],
   "source": [
    "from bs4 import BeautifulSoup"
   ]
  },
  {
   "cell_type": "code",
   "execution_count": 12,
   "metadata": {},
   "outputs": [],
   "source": [
    "def find_cost(medicine):\n",
    "    URL = \"https://www.1mg.com/search/all?name=\"+medicine\n",
    "    r = requests.get(URL)\n",
    "    soup = BeautifulSoup(r.content,'html5lib')\n",
    "#     print(soup.prettify())\n",
    "    name = \"\"\n",
    "    cost = \"\"\n",
    "    name_table = soup.find('div',attrs = {'class':'style__product-description___1vPQe'})\n",
    "    if(name_table):\n",
    "        for row in name_table:\n",
    "            name += row.text\n",
    "            name += ','\n",
    "        name = name[:-1]\n",
    "        cost_table = soup.find('div',attrs = {'class':'style__price-tag___B2csA'})\n",
    "\n",
    "        for row in cost_table:\n",
    "            cost += row.string\n",
    "\n",
    "        return name + \": \" + cost\n",
    "    else :\n",
    "        return medicine + ' not found'\n",
    "    "
   ]
  },
  {
   "cell_type": "code",
   "execution_count": 15,
   "metadata": {},
   "outputs": [],
   "source": [
    "medicines = ['allegra','paracetamol','phenylephrine','sinarest','Atorvastatin' ,'Clopidogrel' ,'bdb']"
   ]
  },
  {
   "cell_type": "code",
   "execution_count": 16,
   "metadata": {},
   "outputs": [
    {
     "name": "stdout",
     "output_type": "stream",
     "text": [
      "Allegra-M Tablet ,strip of 10 tablets: MRP₹ 199.6\n",
      "Dolo 650 Tablet ,strip of 15 tablets: MRP₹ 30.74\n",
      "Solvin Decongestant Tablet ,strip of 15 tablets: MRP₹ 58.53\n",
      "Sinarest New Tablet ,strip of 10 tablets: MRP₹ 55.73\n",
      "Aztor 10 Tablet ,strip of 15 tablets: MRP₹ 91.85\n",
      "Clopitab Tablet ,strip of 15 tablets: MRP₹ 97.41\n",
      "bdb not found\n"
     ]
    }
   ],
   "source": [
    "for x in medicines:\n",
    "    cost = find_cost(x)\n",
    "    print(cost)"
   ]
  }
 ],
 "metadata": {
  "kernelspec": {
   "display_name": "Python 3",
   "language": "python",
   "name": "python3"
  },
  "language_info": {
   "codemirror_mode": {
    "name": "ipython",
    "version": 3
   },
   "file_extension": ".py",
   "mimetype": "text/x-python",
   "name": "python",
   "nbconvert_exporter": "python",
   "pygments_lexer": "ipython3",
   "version": "3.6.5"
  }
 },
 "nbformat": 4,
 "nbformat_minor": 2
}
